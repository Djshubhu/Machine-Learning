{
 "cells": [
  {
   "cell_type": "code",
   "execution_count": 1,
   "id": "961b9b95",
   "metadata": {},
   "outputs": [],
   "source": [
    "import pandas as pd\n",
    "import tensorflow as tf\n",
    "import numpy as np\n",
    "import sklearn"
   ]
  },
  {
   "cell_type": "code",
   "execution_count": 2,
   "id": "28fb2582",
   "metadata": {},
   "outputs": [],
   "source": [
    "dataset=pd.read_csv(r\"S:\\Machine Learning\\Dataset\\Part 8 - Deep Learning\\Section 39 - Artificial Neural Networks (ANN)\\Python\\Churn_Modelling.csv\")"
   ]
  },
  {
   "cell_type": "code",
   "execution_count": 3,
   "id": "3935719c",
   "metadata": {},
   "outputs": [],
   "source": [
    "X=dataset.iloc[:,3:13].values\n",
    "y=dataset.iloc[:,13].values"
   ]
  },
  {
   "cell_type": "code",
   "execution_count": 4,
   "id": "ea6e35b1",
   "metadata": {},
   "outputs": [],
   "source": [
    "def one_hot_encode(data, column):\n",
    "    encoder = OneHotEncoder(categories='auto')\n",
    "    encoded_data = encoder.fit_transform(data[:, column].reshape(-1, 1)).toarray()\n",
    "    return np.concatenate((data[:, :column], encoded_data, data[:, column + 1:]), axis=1)"
   ]
  },
  {
   "cell_type": "code",
   "execution_count": 5,
   "id": "83802f0c",
   "metadata": {},
   "outputs": [],
   "source": [
    "from sklearn.preprocessing import LabelEncoder,OneHotEncoder\n",
    "from sklearn.compose import ColumnTransformer\n",
    "\n",
    "labelencoder_x_1=LabelEncoder()\n",
    "X[:,1]=labelencoder_x_1.fit_transform(X[:,1])\n",
    "labelencoder_x_2=LabelEncoder()\n",
    "X[:,2]=labelencoder_x_2.fit_transform(X[:,2])\n",
    "encoded_data = one_hot_encode(X, 1)\n",
    "encoded_data"
   ]
  },
  {
   "cell_type": "code",
   "execution_count": 6,
   "id": "47c55ee3",
   "metadata": {},
   "outputs": [],
   "source": [
    "from sklearn.model_selection import train_test_split\n",
    "X_train,X_test,y_train,y_test=train_test_split(X,y,test_size=0.2 ,random_state=0)"
   ]
  },
  {
   "cell_type": "code",
   "execution_count": 7,
   "id": "ace59158",
   "metadata": {},
   "outputs": [],
   "source": [
    "from sklearn.preprocessing import StandardScaler\n",
    "sc=StandardScaler()\n",
    "X_train=sc.fit_transform(X_train)\n",
    "X_test=sc.fit_transform(X_test)\n",
    "print(X_train.shape)"
   ]
  },
  {
   "cell_type": "code",
   "execution_count": 8,
   "id": "156969d0",
   "metadata": {},
   "outputs": [],
   "source": [
    "import keras\n",
    "from keras.models import Sequential\n",
    "from keras.layers import Dense"
   ]
  },
  {
   "cell_type": "code",
   "execution_count": 9,
   "id": "a74257f9",
   "metadata": {},
   "outputs": [],
   "source": [
    "classifier=Sequential()\n",
    "classifier.add(Dense(10,activation='relu'))"
   ]
  },
  {
   "cell_type": "code",
   "execution_count": 10,
   "id": "d8175d9b",
   "metadata": {},
   "outputs": [],
   "source": [
    "classifier.add(Dense(10,input_shape=(10,)activation='relu'))"
   ]
  },
  {
   "cell_type": "code",
   "execution_count": 11,
   "id": "678570d4",
   "metadata": {},
   "outputs": [],
   "source": [
    "classifier.add(Dense(1,activation='sigmoid'))"
   ]
  },
  {
   "cell_type": "code",
   "execution_count": 12,
   "id": "dd59828b",
   "metadata": {},
   "outputs": [],
   "source": [
    "classifier.compile(loss='binary_crossentropy', optimizer='adam', metrics=['accuracy'])"
   ]
  },
  {
   "cell_type": "code",
   "execution_count": 13,
   "id": "b67e09a8",
   "metadata": {},
   "outputs": [],
   "source": [
    "classifier.fit(X_train,y_train,batch_size=10,epochs=10)\n",
    "return classifier"
   ]
  },
  {
   "cell_type": "code",
   "execution_count": null,
   "id": "22f86dbb",
   "metadata": {},
   "outputs": [],
   "source": []
  }
 ],
 "metadata": {
  "kernelspec": {
   "display_name": "Python 3 (ipykernel)",
   "language": "python",
   "name": "python3"
  },
  "language_info": {
   "codemirror_mode": {
    "name": "ipython",
    "version": 3
   },
   "file_extension": ".py",
   "mimetype": "text/x-python",
   "name": "python",
   "nbconvert_exporter": "python",
   "pygments_lexer": "ipython3",
   "version": "3.11.4"
  }
 },
 "nbformat": 4,
 "nbformat_minor": 5
}
