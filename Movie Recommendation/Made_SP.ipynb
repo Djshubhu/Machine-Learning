{
 "cells": [
  {
   "cell_type": "code",
   "execution_count": 2,
   "id": "46eeae8f",
   "metadata": {},
   "outputs": [],
   "source": [
    "import numpy as np\n",
    "import pandas as pd\n",
    "import seaborn as sns"
   ]
  },
  {
   "cell_type": "code",
   "execution_count": 3,
   "id": "dfa07bd3",
   "metadata": {},
   "outputs": [],
   "source": [
    "movies=pd.read_csv('movie_data0.csv')"
   ]
  },
  {
   "cell_type": "code",
   "execution_count": 4,
   "id": "65489096",
   "metadata": {},
   "outputs": [
    {
     "data": {
      "text/plain": [
       "Movie Name     0\n",
       "Genre          0\n",
       "Description    0\n",
       "dtype: int64"
      ]
     },
     "execution_count": 4,
     "metadata": {},
     "output_type": "execute_result"
    }
   ],
   "source": [
    "\n",
    "movies=movies[['Movie Name','Genre','Description']]\n",
    "movies.isnull().sum()"
   ]
  },
  {
   "cell_type": "code",
   "execution_count": 5,
   "id": "440f2412",
   "metadata": {},
   "outputs": [],
   "source": [
    "movies.dropna(inplace=True)"
   ]
  },
  {
   "cell_type": "code",
   "execution_count": 6,
   "id": "1a609a06",
   "metadata": {},
   "outputs": [
    {
     "data": {
      "text/plain": [
       "(935, 3)"
      ]
     },
     "execution_count": 6,
     "metadata": {},
     "output_type": "execute_result"
    }
   ],
   "source": [
    "movies.shape"
   ]
  },
  {
   "cell_type": "code",
   "execution_count": 7,
   "id": "499bce14",
   "metadata": {},
   "outputs": [],
   "source": [
    "import ast"
   ]
  },
  {
   "cell_type": "code",
   "execution_count": 8,
   "id": "591773bb",
   "metadata": {},
   "outputs": [],
   "source": [
    "def convert(obj):\n",
    "    L=[]\n",
    "    for i in ast.literal_eval(obj):\n",
    "        L.append(i['name'])\n",
    "    return L"
   ]
  },
  {
   "cell_type": "code",
   "execution_count": 9,
   "id": "cab206f8",
   "metadata": {},
   "outputs": [],
   "source": [
    "# movies['Genre']=movies['Genre'].apply(convert)\n",
    "# movies['Description']=movies['Description'].apply(convert)\n",
    "# movies.head()"
   ]
  },
  {
   "cell_type": "code",
   "execution_count": 10,
   "id": "91dbf546",
   "metadata": {},
   "outputs": [],
   "source": [
    "movies['Genre']=movies['Genre'].apply(lambda x:x.split())\n",
    "movies['Description']=movies['Description'].apply(lambda x:x.split())"
   ]
  },
  {
   "cell_type": "code",
   "execution_count": 11,
   "id": "6fc7be93",
   "metadata": {},
   "outputs": [],
   "source": [
    "movies['Genre']=movies['Genre'].apply(lambda x:[i.replace(\" \",\"\")for i in x])\n",
    "movies['Description']=movies['Description'].apply(lambda x:[i.replace(\" \",\"\")for i in x])"
   ]
  },
  {
   "cell_type": "code",
   "execution_count": 12,
   "id": "45a712f3",
   "metadata": {},
   "outputs": [],
   "source": [
    "movies['tags']=movies['Genre']+movies['Description']\n"
   ]
  },
  {
   "cell_type": "code",
   "execution_count": 13,
   "id": "371be0bf",
   "metadata": {},
   "outputs": [],
   "source": [
    "new_df=movies[['Movie Name','tags']]"
   ]
  },
  {
   "cell_type": "code",
   "execution_count": 14,
   "id": "77511d6d",
   "metadata": {},
   "outputs": [
    {
     "name": "stderr",
     "output_type": "stream",
     "text": [
      "C:\\Users\\ushas\\AppData\\Local\\Temp\\ipykernel_7600\\218205508.py:1: SettingWithCopyWarning: \n",
      "A value is trying to be set on a copy of a slice from a DataFrame.\n",
      "Try using .loc[row_indexer,col_indexer] = value instead\n",
      "\n",
      "See the caveats in the documentation: https://pandas.pydata.org/pandas-docs/stable/user_guide/indexing.html#returning-a-view-versus-a-copy\n",
      "  new_df['tags']=new_df['tags'].apply(lambda x:' '.join(x))\n"
     ]
    }
   ],
   "source": [
    "new_df['tags']=new_df['tags'].apply(lambda x:' '.join(x))"
   ]
  },
  {
   "cell_type": "code",
   "execution_count": 15,
   "id": "a895595a",
   "metadata": {},
   "outputs": [
    {
     "name": "stderr",
     "output_type": "stream",
     "text": [
      "C:\\Users\\ushas\\AppData\\Local\\Temp\\ipykernel_7600\\4224080999.py:1: SettingWithCopyWarning: \n",
      "A value is trying to be set on a copy of a slice from a DataFrame.\n",
      "Try using .loc[row_indexer,col_indexer] = value instead\n",
      "\n",
      "See the caveats in the documentation: https://pandas.pydata.org/pandas-docs/stable/user_guide/indexing.html#returning-a-view-versus-a-copy\n",
      "  new_df['tags']=new_df['tags'].apply(lambda x:x.lower())\n"
     ]
    }
   ],
   "source": [
    "new_df['tags']=new_df['tags'].apply(lambda x:x.lower())"
   ]
  },
  {
   "cell_type": "code",
   "execution_count": 16,
   "id": "9734c24a",
   "metadata": {},
   "outputs": [
    {
     "data": {
      "text/plain": [
       "0      biography, comedy, drama 2010-2019 bollywood m...\n",
       "1      drama, history, romance biopic of the controve...\n",
       "2      action, crime, drama set in medieval rajasthan...\n",
       "3      action, crime, thriller simmba enjoys all the ...\n",
       "4      action, crime, drama relationships and loyalti...\n",
       "                             ...                        \n",
       "930    drama an nri neha malini (soha ali khan) retur...\n",
       "931    biography, drama a teenage british kashmiri, n...\n",
       "932    drama, thriller biography of india's prime min...\n",
       "933    drama rajawadi remand home is in lot of contro...\n",
       "934    comedy, crime, drama a wife embarks on a steam...\n",
       "Name: tags, Length: 935, dtype: object"
      ]
     },
     "execution_count": 16,
     "metadata": {},
     "output_type": "execute_result"
    }
   ],
   "source": [
    "new_df['tags']"
   ]
  },
  {
   "cell_type": "code",
   "execution_count": 17,
   "id": "c191c10b",
   "metadata": {},
   "outputs": [],
   "source": [
    "from sklearn.feature_extraction.text import CountVectorizer\n",
    "cv=CountVectorizer(max_features=5000,stop_words='english')"
   ]
  },
  {
   "cell_type": "code",
   "execution_count": 18,
   "id": "8abed0a1",
   "metadata": {},
   "outputs": [
    {
     "data": {
      "text/plain": [
       "(935, 4702)"
      ]
     },
     "execution_count": 18,
     "metadata": {},
     "output_type": "execute_result"
    }
   ],
   "source": [
    "cv.fit_transform(new_df['tags']).toarray().shape"
   ]
  },
  {
   "cell_type": "code",
   "execution_count": 19,
   "id": "e36dd8e7",
   "metadata": {},
   "outputs": [],
   "source": [
    "vectors=cv.fit_transform(new_df['tags']).toarray()"
   ]
  },
  {
   "cell_type": "code",
   "execution_count": 20,
   "id": "1ed3e6fb",
   "metadata": {},
   "outputs": [
    {
     "data": {
      "text/plain": [
       "array([0, 0, 0, ..., 0, 0, 0], dtype=int64)"
      ]
     },
     "execution_count": 20,
     "metadata": {},
     "output_type": "execute_result"
    }
   ],
   "source": [
    "vectors[0]"
   ]
  },
  {
   "cell_type": "code",
   "execution_count": 21,
   "id": "2351f746",
   "metadata": {},
   "outputs": [
    {
     "data": {
      "text/plain": [
       "array(['000', '10', '102', ..., 'zombies', 'zoya', 'zulfi'], dtype=object)"
      ]
     },
     "execution_count": 21,
     "metadata": {},
     "output_type": "execute_result"
    }
   ],
   "source": [
    "(cv.get_feature_names_out())"
   ]
  },
  {
   "cell_type": "code",
   "execution_count": 22,
   "id": "9319c1ac",
   "metadata": {},
   "outputs": [],
   "source": [
    "import nltk\n",
    "from nltk.stem.porter import PorterStemmer\n",
    "ps=PorterStemmer()"
   ]
  },
  {
   "cell_type": "code",
   "execution_count": 23,
   "id": "3dbb7f80",
   "metadata": {},
   "outputs": [],
   "source": [
    "def stem(text):\n",
    "    y=[]\n",
    "    for i in text.split():\n",
    "        y.append(ps.stem(i))\n",
    "    return ' '.join(y)"
   ]
  },
  {
   "cell_type": "code",
   "execution_count": 24,
   "id": "dc9a003b",
   "metadata": {},
   "outputs": [],
   "source": [
    "new_df['tags']=new_df['tags'].apply(stem)"
   ]
  },
  {
   "cell_type": "code",
   "execution_count": null,
   "id": "604712b1",
   "metadata": {},
   "outputs": [],
   "source": [
    "import re\n",
    "def extract_alpha(input_str):\n",
    "    return re.sub(r'[^a-zA-Z]', '', input_str)"
   ]
  },
  {
   "cell_type": "code",
   "execution_count": null,
   "id": "15169106",
   "metadata": {},
   "outputs": [],
   "source": [
    "for i in range(0,935):\n",
    "    new_df['Movie Name'][i]=extract_alpha(new_df['Movie Name'][i])\n",
    "new_df['Movie_Name']=new_df['Movie Name']"
   ]
  },
  {
   "cell_type": "code",
   "execution_count": null,
   "id": "b14b1d27",
   "metadata": {},
   "outputs": [],
   "source": [
    "new_df['Movie_Name'][0]"
   ]
  },
  {
   "cell_type": "code",
   "execution_count": null,
   "id": "30875bbc",
   "metadata": {},
   "outputs": [],
   "source": [
    "from sklearn.metrics.pairwise import cosine_similarity"
   ]
  },
  {
   "cell_type": "code",
   "execution_count": null,
   "id": "3d04ef89",
   "metadata": {},
   "outputs": [],
   "source": [
    "cosine_similarity(vectors)"
   ]
  },
  {
   "cell_type": "code",
   "execution_count": null,
   "id": "98dc439e",
   "metadata": {},
   "outputs": [],
   "source": [
    "similarity=cosine_similarity(vectors)"
   ]
  },
  {
   "cell_type": "code",
   "execution_count": null,
   "id": "67b6e8c1",
   "metadata": {},
   "outputs": [],
   "source": [
    "sorted(list(enumerate(similarity[0])),reverse=True,key=lambda x:x[1])[1:6]"
   ]
  },
  {
   "cell_type": "code",
   "execution_count": null,
   "id": "5816024b",
   "metadata": {},
   "outputs": [],
   "source": [
    "def recommed(movie):\n",
    "    movie_index = new_df[new_df['Movie_Name'] == movie].index[0]\n",
    "    distances=similarity[movie_index]\n",
    "    movies_list=sorted(list(enumerate(distances)),reverse=True,key=lambda x:x[1])[1:6]\n",
    "    \n",
    "    for i in movies_list:\n",
    "        print(new_df.iloc[i[0]].Movie_Name)"
   ]
  },
  {
   "cell_type": "code",
   "execution_count": null,
   "id": "b5614306",
   "metadata": {},
   "outputs": [],
   "source": [
    "a=input(\"Movie Name \")\n",
    "recommed(a)"
   ]
  }
 ],
 "metadata": {
  "kernelspec": {
   "display_name": "Python 3 (ipykernel)",
   "language": "python",
   "name": "python3"
  },
  "language_info": {
   "codemirror_mode": {
    "name": "ipython",
    "version": 3
   },
   "file_extension": ".py",
   "mimetype": "text/x-python",
   "name": "python",
   "nbconvert_exporter": "python",
   "pygments_lexer": "ipython3",
   "version": "3.11.4"
  }
 },
 "nbformat": 4,
 "nbformat_minor": 5
}
